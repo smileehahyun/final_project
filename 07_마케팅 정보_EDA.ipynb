{
 "cells": [
  {
   "cell_type": "code",
   "execution_count": 1,
   "id": "d62945ab-bc03-485b-9e2f-f6eee7b38fcb",
   "metadata": {},
   "outputs": [],
   "source": [
    "# 기본\n",
    "import pandas as pd\n",
    "import numpy as np\n",
    "import matplotlib.pyplot as plt\n",
    "import seaborn as sns\n",
    "# 경고 뜨지 않게 설정\n",
    "import warnings\n",
    "warnings.filterwarnings('ignore')\n",
    "\n",
    "# 그래프 설정\n",
    "sns.set()\n",
    "\n",
    "# 그래프 기본 설정\n",
    "plt.rcParams['font.family'] = 'AppleGothic'\n",
    "plt.rcParams['figure.figsize'] = 12, 6\n",
    "plt.rcParams['font.size'] = 14\n",
    "plt.rcParams['axes.unicode_minus'] = False\n",
    "\n",
    "# 데이터 전처리 알고리즘\n",
    "from sklearn.preprocessing import LabelEncoder\n",
    "from sklearn.preprocessing import StandardScaler"
   ]
  },
  {
   "cell_type": "code",
   "execution_count": 2,
   "id": "0f283462-ce30-4c1c-8d7a-20e1812980ab",
   "metadata": {},
   "outputs": [],
   "source": [
    "# parquet 파일 데이터를 읽어온다."
   ]
  },
  {
   "cell_type": "code",
   "execution_count": 3,
   "id": "ca6e97d8-44d3-40e6-aecb-315e9be3c598",
   "metadata": {},
   "outputs": [
    {
     "name": "stdout",
     "output_type": "stream",
     "text": [
      "Requirement already satisfied: pyarrow in /opt/miniconda3/lib/python3.12/site-packages (20.0.0)\n",
      "Note: you may need to restart the kernel to use updated packages.\n"
     ]
    }
   ],
   "source": [
    "pip install pyarrow"
   ]
  },
  {
   "cell_type": "code",
   "execution_count": 4,
   "id": "0ea1d5c1-43b0-4913-b5ec-2ce7431fae6c",
   "metadata": {
    "scrolled": true
   },
   "outputs": [],
   "source": [
    "# parquet 파일 데이터를 읽어온다.\n",
    "# df1 = pd.read_parquet('open/train/1.회원정보/201807_train_회원정보.parquet')\n",
    "# df1"
   ]
  },
  {
   "cell_type": "markdown",
   "id": "8efe7ff0-a147-4311-9bfc-d0ffcb3b6d04",
   "metadata": {},
   "source": [
    "#### 분석 전 주의사항"
   ]
  },
  {
   "cell_type": "markdown",
   "id": "11687464-d57c-4568-8ee7-5601305c3551",
   "metadata": {},
   "source": [
    "- 하나의 파일에서 작업을 다 하려고 하지 마세요\n",
    "- 데이터를 읽어온 다음 데이터를 가공했다면 가공한 데이터를 파일로 저장하고 새로운 ipynb 파일을 만들어서 저장한 데이터를 읽어와서 작업하는 형태로 해주세요"
   ]
  },
  {
   "cell_type": "markdown",
   "id": "d4a96492-325c-42a4-81e2-b2b17147f4f7",
   "metadata": {},
   "source": [
    "### 데이터 불러오기"
   ]
  },
  {
   "cell_type": "code",
   "execution_count": 8,
   "id": "3b62bb7b-9464-4138-ad34-7e667d7b449d",
   "metadata": {
    "scrolled": true
   },
   "outputs": [],
   "source": [
    "#201807~201812 마케팅 정보 train 데이터 병합\n",
    "df1 = pd.read_parquet('open/train/7.마케팅정보/201807_train_마케팅정보.parquet')\n",
    "df2 = pd.read_parquet('open/train/7.마케팅정보/201808_train_마케팅정보.parquet')\n",
    "df3 = pd.read_parquet('open/train/7.마케팅정보/201809_train_마케팅정보.parquet')\n",
    "df4 = pd.read_parquet('open/train/7.마케팅정보/201810_train_마케팅정보.parquet')\n",
    "df5 = pd.read_parquet('open/train/7.마케팅정보/201811_train_마케팅정보.parquet')\n",
    "df6 = pd.read_parquet('open/train/7.마케팅정보/201812_train_마케팅정보.parquet')"
   ]
  },
  {
   "cell_type": "code",
   "execution_count": 9,
   "id": "2dc2926c-5db4-406e-a4b5-cbe7dfcedeac",
   "metadata": {},
   "outputs": [],
   "source": [
    "marketing_merged = pd.concat([df1,df2,df3,df4,df5,df6])\n",
    "marketing_merged.to_parquet('open/train/7.마케팅정보//marketing_merged.parquet')"
   ]
  },
  {
   "cell_type": "code",
   "execution_count": 10,
   "id": "ee4dfb93-d9dd-48b0-8b4a-760a81be77ba",
   "metadata": {},
   "outputs": [],
   "source": [
    "df = marketing_merged"
   ]
  },
  {
   "cell_type": "markdown",
   "id": "06ade538-7568-43fe-b28d-c9fb5f2a7c79",
   "metadata": {},
   "source": [
    "### 세그먼트 컬럼 추가하기"
   ]
  },
  {
   "cell_type": "code",
   "execution_count": 12,
   "id": "4c592eac-facb-4d22-bf7b-b626bcd95514",
   "metadata": {},
   "outputs": [],
   "source": [
    "#회원정보 데이터 불러오기\n",
    "df1 = pd.read_parquet('open/train/1.회원정보/201807_train_회원정보.parquet')\n",
    "df2 = pd.read_parquet('open/train/1.회원정보/201808_train_회원정보.parquet')\n",
    "df3 = pd.read_parquet('open/train/1.회원정보/201809_train_회원정보.parquet')\n",
    "df4 = pd.read_parquet('open/train/1.회원정보/201810_train_회원정보.parquet')\n",
    "df5 = pd.read_parquet('open/train/1.회원정보/201811_train_회원정보.parquet')\n",
    "df6 = pd.read_parquet('open/train/1.회원정보/201812_train_회원정보.parquet')"
   ]
  },
  {
   "cell_type": "code",
   "execution_count": 13,
   "id": "2872a0b3-cb8c-4814-b4d3-d1bbb508cd27",
   "metadata": {},
   "outputs": [],
   "source": [
    "#회원정보 데이터 병합하기 \n",
    "new_data = pd.concat([df1,df2,df3,df4,df5,df6])"
   ]
  },
  {
   "cell_type": "code",
   "execution_count": 14,
   "id": "32c1edf5-06c8-4b86-9a15-353a966ece2e",
   "metadata": {},
   "outputs": [],
   "source": [
    "#병합한 데이터 저장\n",
    "new_data.to_parquet('open/train/1.회원정보/merged_data.parquet')"
   ]
  },
  {
   "cell_type": "code",
   "execution_count": 15,
   "id": "9f032319-5164-4fe3-b432-e9c7a0904f57",
   "metadata": {},
   "outputs": [
    {
     "data": {
      "text/plain": [
       "2400000"
      ]
     },
     "execution_count": 15,
     "metadata": {},
     "output_type": "execute_result"
    }
   ],
   "source": [
    "#기존 데이터프레임에 Segment 컬럼 추가하기\n",
    "#추가하기 전 두 데이터프레임 행의 개수가 일치하는지 확인하기\n",
    "len(df)"
   ]
  },
  {
   "cell_type": "code",
   "execution_count": 16,
   "id": "e5df8a8e-9a28-408b-b411-9e3535819298",
   "metadata": {},
   "outputs": [
    {
     "data": {
      "text/plain": [
       "2400000"
      ]
     },
     "execution_count": 16,
     "metadata": {},
     "output_type": "execute_result"
    }
   ],
   "source": [
    "len(new_data)"
   ]
  },
  {
   "cell_type": "code",
   "execution_count": 17,
   "id": "a637413d-1d8b-4338-a2f7-dd4184b0c26a",
   "metadata": {},
   "outputs": [],
   "source": [
    "df['Segment'] = new_data['Segment'].values"
   ]
  },
  {
   "cell_type": "code",
   "execution_count": 18,
   "id": "8a869a66-e4e8-40ea-b3ce-3984bc653c0c",
   "metadata": {},
   "outputs": [
    {
     "data": {
      "text/html": [
       "<div>\n",
       "<style scoped>\n",
       "    .dataframe tbody tr th:only-of-type {\n",
       "        vertical-align: middle;\n",
       "    }\n",
       "\n",
       "    .dataframe tbody tr th {\n",
       "        vertical-align: top;\n",
       "    }\n",
       "\n",
       "    .dataframe thead th {\n",
       "        text-align: right;\n",
       "    }\n",
       "</style>\n",
       "<table border=\"1\" class=\"dataframe\">\n",
       "  <thead>\n",
       "    <tr style=\"text-align: right;\">\n",
       "      <th></th>\n",
       "      <th>기준년월</th>\n",
       "      <th>ID</th>\n",
       "      <th>컨택건수_카드론_TM_B0M</th>\n",
       "      <th>컨택건수_리볼빙_TM_B0M</th>\n",
       "      <th>컨택건수_CA_TM_B0M</th>\n",
       "      <th>컨택건수_이용유도_TM_B0M</th>\n",
       "      <th>컨택건수_신용발급_TM_B0M</th>\n",
       "      <th>컨택건수_부대서비스_TM_B0M</th>\n",
       "      <th>컨택건수_포인트소진_TM_B0M</th>\n",
       "      <th>컨택건수_보험_TM_B0M</th>\n",
       "      <th>...</th>\n",
       "      <th>컨택건수_CA_당사앱_R6M</th>\n",
       "      <th>컨택건수_리볼빙_당사앱_R6M</th>\n",
       "      <th>컨택건수_이용유도_당사앱_R6M</th>\n",
       "      <th>컨택건수_채권_B0M</th>\n",
       "      <th>컨택건수_FDS_B0M</th>\n",
       "      <th>컨택건수_채권_R6M</th>\n",
       "      <th>컨택건수_FDS_R6M</th>\n",
       "      <th>캠페인접촉건수_R12M</th>\n",
       "      <th>캠페인접촉일수_R12M</th>\n",
       "      <th>Segment</th>\n",
       "    </tr>\n",
       "  </thead>\n",
       "  <tbody>\n",
       "    <tr>\n",
       "      <th>0</th>\n",
       "      <td>201807</td>\n",
       "      <td>TRAIN_000000</td>\n",
       "      <td>0</td>\n",
       "      <td>0</td>\n",
       "      <td>0</td>\n",
       "      <td>0</td>\n",
       "      <td>0</td>\n",
       "      <td>0</td>\n",
       "      <td>0</td>\n",
       "      <td>0</td>\n",
       "      <td>...</td>\n",
       "      <td>0</td>\n",
       "      <td>0</td>\n",
       "      <td>0</td>\n",
       "      <td>0</td>\n",
       "      <td>0</td>\n",
       "      <td>0</td>\n",
       "      <td>0</td>\n",
       "      <td>1회 이상</td>\n",
       "      <td>1일 이상</td>\n",
       "      <td>D</td>\n",
       "    </tr>\n",
       "    <tr>\n",
       "      <th>1</th>\n",
       "      <td>201807</td>\n",
       "      <td>TRAIN_000001</td>\n",
       "      <td>3</td>\n",
       "      <td>0</td>\n",
       "      <td>0</td>\n",
       "      <td>0</td>\n",
       "      <td>0</td>\n",
       "      <td>0</td>\n",
       "      <td>0</td>\n",
       "      <td>0</td>\n",
       "      <td>...</td>\n",
       "      <td>0</td>\n",
       "      <td>0</td>\n",
       "      <td>0</td>\n",
       "      <td>0</td>\n",
       "      <td>0</td>\n",
       "      <td>0</td>\n",
       "      <td>0</td>\n",
       "      <td>15회 이상</td>\n",
       "      <td>10일 이상</td>\n",
       "      <td>E</td>\n",
       "    </tr>\n",
       "    <tr>\n",
       "      <th>2</th>\n",
       "      <td>201807</td>\n",
       "      <td>TRAIN_000002</td>\n",
       "      <td>0</td>\n",
       "      <td>0</td>\n",
       "      <td>0</td>\n",
       "      <td>0</td>\n",
       "      <td>0</td>\n",
       "      <td>0</td>\n",
       "      <td>0</td>\n",
       "      <td>0</td>\n",
       "      <td>...</td>\n",
       "      <td>0</td>\n",
       "      <td>0</td>\n",
       "      <td>0</td>\n",
       "      <td>0</td>\n",
       "      <td>0</td>\n",
       "      <td>0</td>\n",
       "      <td>0</td>\n",
       "      <td>1회 이상</td>\n",
       "      <td>1일 이상</td>\n",
       "      <td>C</td>\n",
       "    </tr>\n",
       "    <tr>\n",
       "      <th>3</th>\n",
       "      <td>201807</td>\n",
       "      <td>TRAIN_000003</td>\n",
       "      <td>0</td>\n",
       "      <td>0</td>\n",
       "      <td>0</td>\n",
       "      <td>0</td>\n",
       "      <td>0</td>\n",
       "      <td>0</td>\n",
       "      <td>0</td>\n",
       "      <td>0</td>\n",
       "      <td>...</td>\n",
       "      <td>0</td>\n",
       "      <td>0</td>\n",
       "      <td>0</td>\n",
       "      <td>0</td>\n",
       "      <td>0</td>\n",
       "      <td>0</td>\n",
       "      <td>0</td>\n",
       "      <td>1회 이상</td>\n",
       "      <td>1일 이상</td>\n",
       "      <td>D</td>\n",
       "    </tr>\n",
       "    <tr>\n",
       "      <th>4</th>\n",
       "      <td>201807</td>\n",
       "      <td>TRAIN_000004</td>\n",
       "      <td>0</td>\n",
       "      <td>0</td>\n",
       "      <td>0</td>\n",
       "      <td>0</td>\n",
       "      <td>0</td>\n",
       "      <td>0</td>\n",
       "      <td>0</td>\n",
       "      <td>0</td>\n",
       "      <td>...</td>\n",
       "      <td>0</td>\n",
       "      <td>0</td>\n",
       "      <td>0</td>\n",
       "      <td>0</td>\n",
       "      <td>0</td>\n",
       "      <td>0</td>\n",
       "      <td>0</td>\n",
       "      <td>1회 이상</td>\n",
       "      <td>1일 이상</td>\n",
       "      <td>E</td>\n",
       "    </tr>\n",
       "    <tr>\n",
       "      <th>...</th>\n",
       "      <td>...</td>\n",
       "      <td>...</td>\n",
       "      <td>...</td>\n",
       "      <td>...</td>\n",
       "      <td>...</td>\n",
       "      <td>...</td>\n",
       "      <td>...</td>\n",
       "      <td>...</td>\n",
       "      <td>...</td>\n",
       "      <td>...</td>\n",
       "      <td>...</td>\n",
       "      <td>...</td>\n",
       "      <td>...</td>\n",
       "      <td>...</td>\n",
       "      <td>...</td>\n",
       "      <td>...</td>\n",
       "      <td>...</td>\n",
       "      <td>...</td>\n",
       "      <td>...</td>\n",
       "      <td>...</td>\n",
       "      <td>...</td>\n",
       "    </tr>\n",
       "    <tr>\n",
       "      <th>399995</th>\n",
       "      <td>201812</td>\n",
       "      <td>TRAIN_399995</td>\n",
       "      <td>0</td>\n",
       "      <td>0</td>\n",
       "      <td>0</td>\n",
       "      <td>0</td>\n",
       "      <td>0</td>\n",
       "      <td>0</td>\n",
       "      <td>0</td>\n",
       "      <td>0</td>\n",
       "      <td>...</td>\n",
       "      <td>0</td>\n",
       "      <td>0</td>\n",
       "      <td>0</td>\n",
       "      <td>0</td>\n",
       "      <td>0</td>\n",
       "      <td>0</td>\n",
       "      <td>0</td>\n",
       "      <td>1회 이상</td>\n",
       "      <td>1일 이상</td>\n",
       "      <td>E</td>\n",
       "    </tr>\n",
       "    <tr>\n",
       "      <th>399996</th>\n",
       "      <td>201812</td>\n",
       "      <td>TRAIN_399996</td>\n",
       "      <td>0</td>\n",
       "      <td>0</td>\n",
       "      <td>0</td>\n",
       "      <td>0</td>\n",
       "      <td>0</td>\n",
       "      <td>0</td>\n",
       "      <td>0</td>\n",
       "      <td>0</td>\n",
       "      <td>...</td>\n",
       "      <td>0</td>\n",
       "      <td>0</td>\n",
       "      <td>0</td>\n",
       "      <td>0</td>\n",
       "      <td>0</td>\n",
       "      <td>0</td>\n",
       "      <td>0</td>\n",
       "      <td>20회 이상</td>\n",
       "      <td>15일 이상</td>\n",
       "      <td>D</td>\n",
       "    </tr>\n",
       "    <tr>\n",
       "      <th>399997</th>\n",
       "      <td>201812</td>\n",
       "      <td>TRAIN_399997</td>\n",
       "      <td>0</td>\n",
       "      <td>0</td>\n",
       "      <td>0</td>\n",
       "      <td>0</td>\n",
       "      <td>0</td>\n",
       "      <td>0</td>\n",
       "      <td>0</td>\n",
       "      <td>0</td>\n",
       "      <td>...</td>\n",
       "      <td>0</td>\n",
       "      <td>0</td>\n",
       "      <td>0</td>\n",
       "      <td>0</td>\n",
       "      <td>0</td>\n",
       "      <td>0</td>\n",
       "      <td>0</td>\n",
       "      <td>1회 이상</td>\n",
       "      <td>1일 이상</td>\n",
       "      <td>C</td>\n",
       "    </tr>\n",
       "    <tr>\n",
       "      <th>399998</th>\n",
       "      <td>201812</td>\n",
       "      <td>TRAIN_399998</td>\n",
       "      <td>0</td>\n",
       "      <td>0</td>\n",
       "      <td>0</td>\n",
       "      <td>0</td>\n",
       "      <td>0</td>\n",
       "      <td>0</td>\n",
       "      <td>0</td>\n",
       "      <td>0</td>\n",
       "      <td>...</td>\n",
       "      <td>0</td>\n",
       "      <td>0</td>\n",
       "      <td>0</td>\n",
       "      <td>0</td>\n",
       "      <td>0</td>\n",
       "      <td>0</td>\n",
       "      <td>0</td>\n",
       "      <td>1회 이상</td>\n",
       "      <td>1일 이상</td>\n",
       "      <td>E</td>\n",
       "    </tr>\n",
       "    <tr>\n",
       "      <th>399999</th>\n",
       "      <td>201812</td>\n",
       "      <td>TRAIN_399999</td>\n",
       "      <td>0</td>\n",
       "      <td>0</td>\n",
       "      <td>0</td>\n",
       "      <td>0</td>\n",
       "      <td>0</td>\n",
       "      <td>0</td>\n",
       "      <td>0</td>\n",
       "      <td>0</td>\n",
       "      <td>...</td>\n",
       "      <td>0</td>\n",
       "      <td>0</td>\n",
       "      <td>0</td>\n",
       "      <td>0</td>\n",
       "      <td>0</td>\n",
       "      <td>0</td>\n",
       "      <td>0</td>\n",
       "      <td>1회 이상</td>\n",
       "      <td>1일 이상</td>\n",
       "      <td>E</td>\n",
       "    </tr>\n",
       "  </tbody>\n",
       "</table>\n",
       "<p>2400000 rows × 65 columns</p>\n",
       "</div>"
      ],
      "text/plain": [
       "          기준년월            ID  컨택건수_카드론_TM_B0M  컨택건수_리볼빙_TM_B0M  \\\n",
       "0       201807  TRAIN_000000                0                0   \n",
       "1       201807  TRAIN_000001                3                0   \n",
       "2       201807  TRAIN_000002                0                0   \n",
       "3       201807  TRAIN_000003                0                0   \n",
       "4       201807  TRAIN_000004                0                0   \n",
       "...        ...           ...              ...              ...   \n",
       "399995  201812  TRAIN_399995                0                0   \n",
       "399996  201812  TRAIN_399996                0                0   \n",
       "399997  201812  TRAIN_399997                0                0   \n",
       "399998  201812  TRAIN_399998                0                0   \n",
       "399999  201812  TRAIN_399999                0                0   \n",
       "\n",
       "        컨택건수_CA_TM_B0M  컨택건수_이용유도_TM_B0M  컨택건수_신용발급_TM_B0M  컨택건수_부대서비스_TM_B0M  \\\n",
       "0                    0                 0                 0                  0   \n",
       "1                    0                 0                 0                  0   \n",
       "2                    0                 0                 0                  0   \n",
       "3                    0                 0                 0                  0   \n",
       "4                    0                 0                 0                  0   \n",
       "...                ...               ...               ...                ...   \n",
       "399995               0                 0                 0                  0   \n",
       "399996               0                 0                 0                  0   \n",
       "399997               0                 0                 0                  0   \n",
       "399998               0                 0                 0                  0   \n",
       "399999               0                 0                 0                  0   \n",
       "\n",
       "        컨택건수_포인트소진_TM_B0M  컨택건수_보험_TM_B0M  ...  컨택건수_CA_당사앱_R6M  \\\n",
       "0                       0               0  ...                0   \n",
       "1                       0               0  ...                0   \n",
       "2                       0               0  ...                0   \n",
       "3                       0               0  ...                0   \n",
       "4                       0               0  ...                0   \n",
       "...                   ...             ...  ...              ...   \n",
       "399995                  0               0  ...                0   \n",
       "399996                  0               0  ...                0   \n",
       "399997                  0               0  ...                0   \n",
       "399998                  0               0  ...                0   \n",
       "399999                  0               0  ...                0   \n",
       "\n",
       "        컨택건수_리볼빙_당사앱_R6M  컨택건수_이용유도_당사앱_R6M  컨택건수_채권_B0M  컨택건수_FDS_B0M  \\\n",
       "0                      0                  0            0             0   \n",
       "1                      0                  0            0             0   \n",
       "2                      0                  0            0             0   \n",
       "3                      0                  0            0             0   \n",
       "4                      0                  0            0             0   \n",
       "...                  ...                ...          ...           ...   \n",
       "399995                 0                  0            0             0   \n",
       "399996                 0                  0            0             0   \n",
       "399997                 0                  0            0             0   \n",
       "399998                 0                  0            0             0   \n",
       "399999                 0                  0            0             0   \n",
       "\n",
       "        컨택건수_채권_R6M  컨택건수_FDS_R6M  캠페인접촉건수_R12M  캠페인접촉일수_R12M  Segment  \n",
       "0                 0             0         1회 이상         1일 이상        D  \n",
       "1                 0             0        15회 이상        10일 이상        E  \n",
       "2                 0             0         1회 이상         1일 이상        C  \n",
       "3                 0             0         1회 이상         1일 이상        D  \n",
       "4                 0             0         1회 이상         1일 이상        E  \n",
       "...             ...           ...           ...           ...      ...  \n",
       "399995            0             0         1회 이상         1일 이상        E  \n",
       "399996            0             0        20회 이상        15일 이상        D  \n",
       "399997            0             0         1회 이상         1일 이상        C  \n",
       "399998            0             0         1회 이상         1일 이상        E  \n",
       "399999            0             0         1회 이상         1일 이상        E  \n",
       "\n",
       "[2400000 rows x 65 columns]"
      ]
     },
     "execution_count": 18,
     "metadata": {},
     "output_type": "execute_result"
    }
   ],
   "source": [
    "df"
   ]
  },
  {
   "cell_type": "markdown",
   "id": "514a3401-8fe5-43c3-ae7e-38ed2dc04f8b",
   "metadata": {},
   "source": [
    "### EDA"
   ]
  },
  {
   "cell_type": "code",
   "execution_count": 20,
   "id": "75bf635d-e6bd-4490-a9c5-9a638d2bd2e7",
   "metadata": {},
   "outputs": [
    {
     "data": {
      "text/plain": [
       "Index(['기준년월', 'ID', '컨택건수_카드론_TM_B0M', '컨택건수_리볼빙_TM_B0M', '컨택건수_CA_TM_B0M',\n",
       "       '컨택건수_이용유도_TM_B0M', '컨택건수_신용발급_TM_B0M', '컨택건수_부대서비스_TM_B0M',\n",
       "       '컨택건수_포인트소진_TM_B0M', '컨택건수_보험_TM_B0M', '컨택건수_카드론_LMS_B0M',\n",
       "       '컨택건수_CA_LMS_B0M', '컨택건수_리볼빙_LMS_B0M', '컨택건수_이용유도_LMS_B0M',\n",
       "       '컨택건수_카드론_EM_B0M', '컨택건수_CA_EM_B0M', '컨택건수_리볼빙_EM_B0M',\n",
       "       '컨택건수_이용유도_EM_B0M', '컨택건수_카드론_청구서_B0M', '컨택건수_CA_청구서_B0M',\n",
       "       '컨택건수_리볼빙_청구서_B0M', '컨택건수_이용유도_청구서_B0M', '컨택건수_카드론_인터넷_B0M',\n",
       "       '컨택건수_CA_인터넷_B0M', '컨택건수_리볼빙_인터넷_B0M', '컨택건수_이용유도_인터넷_B0M',\n",
       "       '컨택건수_카드론_당사앱_B0M', '컨택건수_CA_당사앱_B0M', '컨택건수_리볼빙_당사앱_B0M',\n",
       "       '컨택건수_이용유도_당사앱_B0M', '컨택건수_카드론_TM_R6M', '컨택건수_CA_TM_R6M',\n",
       "       '컨택건수_리볼빙_TM_R6M', '컨택건수_이용유도_TM_R6M', '컨택건수_신용발급_TM_R6M',\n",
       "       '컨택건수_부대서비스_TM_R6M', '컨택건수_포인트소진_TM_R6M', '컨택건수_보험_TM_R6M',\n",
       "       '컨택건수_카드론_LMS_R6M', '컨택건수_CA_LMS_R6M', '컨택건수_리볼빙_LMS_R6M',\n",
       "       '컨택건수_이용유도_LMS_R6M', '컨택건수_카드론_EM_R6M', '컨택건수_CA_EM_R6M',\n",
       "       '컨택건수_리볼빙_EM_R6M', '컨택건수_이용유도_EM_R6M', '컨택건수_카드론_청구서_R6M',\n",
       "       '컨택건수_CA_청구서_R6M', '컨택건수_리볼빙_청구서_R6M', '컨택건수_이용유도_청구서_R6M',\n",
       "       '컨택건수_카드론_인터넷_R6M', '컨택건수_CA_인터넷_R6M', '컨택건수_리볼빙_인터넷_R6M',\n",
       "       '컨택건수_이용유도_인터넷_R6M', '컨택건수_카드론_당사앱_R6M', '컨택건수_CA_당사앱_R6M',\n",
       "       '컨택건수_리볼빙_당사앱_R6M', '컨택건수_이용유도_당사앱_R6M', '컨택건수_채권_B0M', '컨택건수_FDS_B0M',\n",
       "       '컨택건수_채권_R6M', '컨택건수_FDS_R6M', '캠페인접촉건수_R12M', '캠페인접촉일수_R12M',\n",
       "       'Segment'],\n",
       "      dtype='object')"
      ]
     },
     "execution_count": 20,
     "metadata": {},
     "output_type": "execute_result"
    }
   ],
   "source": [
    "df.columns"
   ]
  },
  {
   "cell_type": "code",
   "execution_count": 21,
   "id": "44ed352f-3bfd-4df9-ae1a-c6304a415ba6",
   "metadata": {},
   "outputs": [
    {
     "data": {
      "text/html": [
       "<div>\n",
       "<style scoped>\n",
       "    .dataframe tbody tr th:only-of-type {\n",
       "        vertical-align: middle;\n",
       "    }\n",
       "\n",
       "    .dataframe tbody tr th {\n",
       "        vertical-align: top;\n",
       "    }\n",
       "\n",
       "    .dataframe thead th {\n",
       "        text-align: right;\n",
       "    }\n",
       "</style>\n",
       "<table border=\"1\" class=\"dataframe\">\n",
       "  <thead>\n",
       "    <tr style=\"text-align: right;\">\n",
       "      <th></th>\n",
       "      <th>기준년월</th>\n",
       "      <th>컨택건수_카드론_TM_B0M</th>\n",
       "      <th>컨택건수_리볼빙_TM_B0M</th>\n",
       "      <th>컨택건수_CA_TM_B0M</th>\n",
       "      <th>컨택건수_이용유도_TM_B0M</th>\n",
       "      <th>컨택건수_신용발급_TM_B0M</th>\n",
       "      <th>컨택건수_부대서비스_TM_B0M</th>\n",
       "      <th>컨택건수_포인트소진_TM_B0M</th>\n",
       "      <th>컨택건수_보험_TM_B0M</th>\n",
       "      <th>컨택건수_카드론_LMS_B0M</th>\n",
       "      <th>...</th>\n",
       "      <th>컨택건수_리볼빙_인터넷_R6M</th>\n",
       "      <th>컨택건수_이용유도_인터넷_R6M</th>\n",
       "      <th>컨택건수_카드론_당사앱_R6M</th>\n",
       "      <th>컨택건수_CA_당사앱_R6M</th>\n",
       "      <th>컨택건수_리볼빙_당사앱_R6M</th>\n",
       "      <th>컨택건수_이용유도_당사앱_R6M</th>\n",
       "      <th>컨택건수_채권_B0M</th>\n",
       "      <th>컨택건수_FDS_B0M</th>\n",
       "      <th>컨택건수_채권_R6M</th>\n",
       "      <th>컨택건수_FDS_R6M</th>\n",
       "    </tr>\n",
       "  </thead>\n",
       "  <tbody>\n",
       "    <tr>\n",
       "      <th>count</th>\n",
       "      <td>2.400000e+06</td>\n",
       "      <td>2.400000e+06</td>\n",
       "      <td>2.400000e+06</td>\n",
       "      <td>2400000.0</td>\n",
       "      <td>2.400000e+06</td>\n",
       "      <td>2.400000e+06</td>\n",
       "      <td>2.400000e+06</td>\n",
       "      <td>2400000.0</td>\n",
       "      <td>2.400000e+06</td>\n",
       "      <td>2.400000e+06</td>\n",
       "      <td>...</td>\n",
       "      <td>2400000.0</td>\n",
       "      <td>2.400000e+06</td>\n",
       "      <td>2400000.0</td>\n",
       "      <td>2400000.0</td>\n",
       "      <td>2400000.0</td>\n",
       "      <td>2.400000e+06</td>\n",
       "      <td>2.400000e+06</td>\n",
       "      <td>2400000.0</td>\n",
       "      <td>2.400000e+06</td>\n",
       "      <td>2400000.0</td>\n",
       "    </tr>\n",
       "    <tr>\n",
       "      <th>mean</th>\n",
       "      <td>2.018095e+05</td>\n",
       "      <td>1.657625e-01</td>\n",
       "      <td>6.666667e-06</td>\n",
       "      <td>0.0</td>\n",
       "      <td>7.920292e-02</td>\n",
       "      <td>2.500000e-06</td>\n",
       "      <td>4.166667e-07</td>\n",
       "      <td>0.0</td>\n",
       "      <td>1.316500e-02</td>\n",
       "      <td>4.089167e-03</td>\n",
       "      <td>...</td>\n",
       "      <td>0.0</td>\n",
       "      <td>2.359363e+00</td>\n",
       "      <td>0.0</td>\n",
       "      <td>0.0</td>\n",
       "      <td>0.0</td>\n",
       "      <td>7.004167e-04</td>\n",
       "      <td>2.744625e-02</td>\n",
       "      <td>0.0</td>\n",
       "      <td>4.281692e-01</td>\n",
       "      <td>0.0</td>\n",
       "    </tr>\n",
       "    <tr>\n",
       "      <th>std</th>\n",
       "      <td>1.707825e+00</td>\n",
       "      <td>6.976548e-01</td>\n",
       "      <td>3.162271e-03</td>\n",
       "      <td>0.0</td>\n",
       "      <td>4.768350e-01</td>\n",
       "      <td>1.581137e-03</td>\n",
       "      <td>6.454972e-04</td>\n",
       "      <td>0.0</td>\n",
       "      <td>1.139811e-01</td>\n",
       "      <td>6.381573e-02</td>\n",
       "      <td>...</td>\n",
       "      <td>0.0</td>\n",
       "      <td>2.087587e+00</td>\n",
       "      <td>0.0</td>\n",
       "      <td>0.0</td>\n",
       "      <td>0.0</td>\n",
       "      <td>4.600645e-02</td>\n",
       "      <td>3.823193e-01</td>\n",
       "      <td>0.0</td>\n",
       "      <td>2.160925e+00</td>\n",
       "      <td>0.0</td>\n",
       "    </tr>\n",
       "    <tr>\n",
       "      <th>min</th>\n",
       "      <td>2.018070e+05</td>\n",
       "      <td>0.000000e+00</td>\n",
       "      <td>0.000000e+00</td>\n",
       "      <td>0.0</td>\n",
       "      <td>0.000000e+00</td>\n",
       "      <td>0.000000e+00</td>\n",
       "      <td>0.000000e+00</td>\n",
       "      <td>0.0</td>\n",
       "      <td>0.000000e+00</td>\n",
       "      <td>0.000000e+00</td>\n",
       "      <td>...</td>\n",
       "      <td>0.0</td>\n",
       "      <td>0.000000e+00</td>\n",
       "      <td>0.0</td>\n",
       "      <td>0.0</td>\n",
       "      <td>0.0</td>\n",
       "      <td>0.000000e+00</td>\n",
       "      <td>0.000000e+00</td>\n",
       "      <td>0.0</td>\n",
       "      <td>0.000000e+00</td>\n",
       "      <td>0.0</td>\n",
       "    </tr>\n",
       "    <tr>\n",
       "      <th>25%</th>\n",
       "      <td>2.018080e+05</td>\n",
       "      <td>0.000000e+00</td>\n",
       "      <td>0.000000e+00</td>\n",
       "      <td>0.0</td>\n",
       "      <td>0.000000e+00</td>\n",
       "      <td>0.000000e+00</td>\n",
       "      <td>0.000000e+00</td>\n",
       "      <td>0.0</td>\n",
       "      <td>0.000000e+00</td>\n",
       "      <td>0.000000e+00</td>\n",
       "      <td>...</td>\n",
       "      <td>0.0</td>\n",
       "      <td>0.000000e+00</td>\n",
       "      <td>0.0</td>\n",
       "      <td>0.0</td>\n",
       "      <td>0.0</td>\n",
       "      <td>0.000000e+00</td>\n",
       "      <td>0.000000e+00</td>\n",
       "      <td>0.0</td>\n",
       "      <td>0.000000e+00</td>\n",
       "      <td>0.0</td>\n",
       "    </tr>\n",
       "    <tr>\n",
       "      <th>50%</th>\n",
       "      <td>2.018095e+05</td>\n",
       "      <td>0.000000e+00</td>\n",
       "      <td>0.000000e+00</td>\n",
       "      <td>0.0</td>\n",
       "      <td>0.000000e+00</td>\n",
       "      <td>0.000000e+00</td>\n",
       "      <td>0.000000e+00</td>\n",
       "      <td>0.0</td>\n",
       "      <td>0.000000e+00</td>\n",
       "      <td>0.000000e+00</td>\n",
       "      <td>...</td>\n",
       "      <td>0.0</td>\n",
       "      <td>2.000000e+00</td>\n",
       "      <td>0.0</td>\n",
       "      <td>0.0</td>\n",
       "      <td>0.0</td>\n",
       "      <td>0.000000e+00</td>\n",
       "      <td>0.000000e+00</td>\n",
       "      <td>0.0</td>\n",
       "      <td>0.000000e+00</td>\n",
       "      <td>0.0</td>\n",
       "    </tr>\n",
       "    <tr>\n",
       "      <th>75%</th>\n",
       "      <td>2.018110e+05</td>\n",
       "      <td>0.000000e+00</td>\n",
       "      <td>0.000000e+00</td>\n",
       "      <td>0.0</td>\n",
       "      <td>0.000000e+00</td>\n",
       "      <td>0.000000e+00</td>\n",
       "      <td>0.000000e+00</td>\n",
       "      <td>0.0</td>\n",
       "      <td>0.000000e+00</td>\n",
       "      <td>0.000000e+00</td>\n",
       "      <td>...</td>\n",
       "      <td>0.0</td>\n",
       "      <td>4.000000e+00</td>\n",
       "      <td>0.0</td>\n",
       "      <td>0.0</td>\n",
       "      <td>0.0</td>\n",
       "      <td>0.000000e+00</td>\n",
       "      <td>0.000000e+00</td>\n",
       "      <td>0.0</td>\n",
       "      <td>0.000000e+00</td>\n",
       "      <td>0.0</td>\n",
       "    </tr>\n",
       "    <tr>\n",
       "      <th>max</th>\n",
       "      <td>2.018120e+05</td>\n",
       "      <td>4.000000e+00</td>\n",
       "      <td>2.000000e+00</td>\n",
       "      <td>0.0</td>\n",
       "      <td>3.000000e+00</td>\n",
       "      <td>1.000000e+00</td>\n",
       "      <td>1.000000e+00</td>\n",
       "      <td>0.0</td>\n",
       "      <td>1.000000e+00</td>\n",
       "      <td>1.000000e+00</td>\n",
       "      <td>...</td>\n",
       "      <td>0.0</td>\n",
       "      <td>9.000000e+00</td>\n",
       "      <td>0.0</td>\n",
       "      <td>0.0</td>\n",
       "      <td>0.0</td>\n",
       "      <td>4.000000e+00</td>\n",
       "      <td>8.000000e+00</td>\n",
       "      <td>0.0</td>\n",
       "      <td>3.900000e+01</td>\n",
       "      <td>0.0</td>\n",
       "    </tr>\n",
       "  </tbody>\n",
       "</table>\n",
       "<p>8 rows × 61 columns</p>\n",
       "</div>"
      ],
      "text/plain": [
       "               기준년월  컨택건수_카드론_TM_B0M  컨택건수_리볼빙_TM_B0M  컨택건수_CA_TM_B0M  \\\n",
       "count  2.400000e+06     2.400000e+06     2.400000e+06       2400000.0   \n",
       "mean   2.018095e+05     1.657625e-01     6.666667e-06             0.0   \n",
       "std    1.707825e+00     6.976548e-01     3.162271e-03             0.0   \n",
       "min    2.018070e+05     0.000000e+00     0.000000e+00             0.0   \n",
       "25%    2.018080e+05     0.000000e+00     0.000000e+00             0.0   \n",
       "50%    2.018095e+05     0.000000e+00     0.000000e+00             0.0   \n",
       "75%    2.018110e+05     0.000000e+00     0.000000e+00             0.0   \n",
       "max    2.018120e+05     4.000000e+00     2.000000e+00             0.0   \n",
       "\n",
       "       컨택건수_이용유도_TM_B0M  컨택건수_신용발급_TM_B0M  컨택건수_부대서비스_TM_B0M  \\\n",
       "count      2.400000e+06      2.400000e+06       2.400000e+06   \n",
       "mean       7.920292e-02      2.500000e-06       4.166667e-07   \n",
       "std        4.768350e-01      1.581137e-03       6.454972e-04   \n",
       "min        0.000000e+00      0.000000e+00       0.000000e+00   \n",
       "25%        0.000000e+00      0.000000e+00       0.000000e+00   \n",
       "50%        0.000000e+00      0.000000e+00       0.000000e+00   \n",
       "75%        0.000000e+00      0.000000e+00       0.000000e+00   \n",
       "max        3.000000e+00      1.000000e+00       1.000000e+00   \n",
       "\n",
       "       컨택건수_포인트소진_TM_B0M  컨택건수_보험_TM_B0M  컨택건수_카드론_LMS_B0M  ...  \\\n",
       "count          2400000.0    2.400000e+06      2.400000e+06  ...   \n",
       "mean                 0.0    1.316500e-02      4.089167e-03  ...   \n",
       "std                  0.0    1.139811e-01      6.381573e-02  ...   \n",
       "min                  0.0    0.000000e+00      0.000000e+00  ...   \n",
       "25%                  0.0    0.000000e+00      0.000000e+00  ...   \n",
       "50%                  0.0    0.000000e+00      0.000000e+00  ...   \n",
       "75%                  0.0    0.000000e+00      0.000000e+00  ...   \n",
       "max                  0.0    1.000000e+00      1.000000e+00  ...   \n",
       "\n",
       "       컨택건수_리볼빙_인터넷_R6M  컨택건수_이용유도_인터넷_R6M  컨택건수_카드론_당사앱_R6M  컨택건수_CA_당사앱_R6M  \\\n",
       "count         2400000.0       2.400000e+06         2400000.0        2400000.0   \n",
       "mean                0.0       2.359363e+00               0.0              0.0   \n",
       "std                 0.0       2.087587e+00               0.0              0.0   \n",
       "min                 0.0       0.000000e+00               0.0              0.0   \n",
       "25%                 0.0       0.000000e+00               0.0              0.0   \n",
       "50%                 0.0       2.000000e+00               0.0              0.0   \n",
       "75%                 0.0       4.000000e+00               0.0              0.0   \n",
       "max                 0.0       9.000000e+00               0.0              0.0   \n",
       "\n",
       "       컨택건수_리볼빙_당사앱_R6M  컨택건수_이용유도_당사앱_R6M   컨택건수_채권_B0M  컨택건수_FDS_B0M  \\\n",
       "count         2400000.0       2.400000e+06  2.400000e+06     2400000.0   \n",
       "mean                0.0       7.004167e-04  2.744625e-02           0.0   \n",
       "std                 0.0       4.600645e-02  3.823193e-01           0.0   \n",
       "min                 0.0       0.000000e+00  0.000000e+00           0.0   \n",
       "25%                 0.0       0.000000e+00  0.000000e+00           0.0   \n",
       "50%                 0.0       0.000000e+00  0.000000e+00           0.0   \n",
       "75%                 0.0       0.000000e+00  0.000000e+00           0.0   \n",
       "max                 0.0       4.000000e+00  8.000000e+00           0.0   \n",
       "\n",
       "        컨택건수_채권_R6M  컨택건수_FDS_R6M  \n",
       "count  2.400000e+06     2400000.0  \n",
       "mean   4.281692e-01           0.0  \n",
       "std    2.160925e+00           0.0  \n",
       "min    0.000000e+00           0.0  \n",
       "25%    0.000000e+00           0.0  \n",
       "50%    0.000000e+00           0.0  \n",
       "75%    0.000000e+00           0.0  \n",
       "max    3.900000e+01           0.0  \n",
       "\n",
       "[8 rows x 61 columns]"
      ]
     },
     "execution_count": 21,
     "metadata": {},
     "output_type": "execute_result"
    }
   ],
   "source": [
    "df.describe()"
   ]
  },
  {
   "cell_type": "code",
   "execution_count": 22,
   "id": "dc81927c-2c6c-4b92-b8f5-c2f6f6521df5",
   "metadata": {
    "scrolled": true
   },
   "outputs": [
    {
     "data": {
      "text/plain": [
       "기준년월               0\n",
       "ID                 0\n",
       "컨택건수_카드론_TM_B0M    0\n",
       "컨택건수_리볼빙_TM_B0M    0\n",
       "컨택건수_CA_TM_B0M     0\n",
       "                  ..\n",
       "컨택건수_채권_R6M        0\n",
       "컨택건수_FDS_R6M       0\n",
       "캠페인접촉건수_R12M       0\n",
       "캠페인접촉일수_R12M       0\n",
       "Segment            0\n",
       "Length: 65, dtype: int64"
      ]
     },
     "execution_count": 22,
     "metadata": {},
     "output_type": "execute_result"
    }
   ],
   "source": [
    "#결측치 확인\n",
    "df.isnull().sum()"
   ]
  },
  {
   "cell_type": "code",
   "execution_count": 23,
   "id": "6957a64f-b0ca-43cf-b240-f5370b7d3266",
   "metadata": {},
   "outputs": [
    {
     "data": {
      "text/plain": [
       "Segment\n",
       "E    1922052\n",
       "D     349242\n",
       "C     127590\n",
       "A        972\n",
       "B        144\n",
       "Name: count, dtype: int64"
      ]
     },
     "execution_count": 23,
     "metadata": {},
     "output_type": "execute_result"
    }
   ],
   "source": [
    "#Segment 분포 확인\n",
    "df['Segment'].value_counts()"
   ]
  },
  {
   "cell_type": "code",
   "execution_count": 24,
   "id": "4abd9924-78f4-4780-b14a-d5f83f1e6ded",
   "metadata": {},
   "outputs": [
    {
     "data": {
      "image/png": "[encoded data removed]",
      "text/plain": [
       "<Figure size 1200x600 with 1 Axes>"
      ]
     },
     "metadata": {},
     "output_type": "display_data"
    }
   ],
   "source": [
    "# 1. 내림차순 정렬된 Segment 순서 추출\n",
    "order = df['Segment'].value_counts().sort_values(ascending=False).index\n",
    "\n",
    "# 2. countplot에서 order=로 순서 지정\n",
    "sns.countplot(data=df, x='Segment', order=order)\n",
    "plt.title('Segment 분포 (내림차순)')\n",
    "plt.show()"
   ]
  },
  {
   "cell_type": "code",
   "execution_count": 25,
   "id": "62cf4df8-9374-49a0-b600-82e90f0f41ae",
   "metadata": {},
   "outputs": [
    {
     "data": {
      "text/plain": [
       "Segment\n",
       "E    0.800855\n",
       "D    0.145517\n",
       "C    0.053163\n",
       "A    0.000405\n",
       "B    0.000060\n",
       "Name: proportion, dtype: float64"
      ]
     },
     "execution_count": 25,
     "metadata": {},
     "output_type": "execute_result"
    }
   ],
   "source": [
    "df['Segment'].value_counts(normalize=True)"
   ]
  },
  {
   "cell_type": "markdown",
   "id": "af500ba3-8ada-4cee-a92f-ea0d15b6cbc4",
   "metadata": {},
   "source": [
    "- Segment 수 E > D > C \n",
    "- E가 압도적으로 많음\n",
    "- 클래스 간 불균형이 심함"
   ]
  },
  {
   "cell_type": "markdown",
   "id": "3308494e-afce-48bd-8ff6-0c9f54fe9739",
   "metadata": {},
   "source": [
    "## TM(=텔레 마케팅) "
   ]
  },
  {
   "cell_type": "code",
   "execution_count": 28,
   "id": "85fe7a5f-0f91-412f-af8a-a225f7a5393a",
   "metadata": {},
   "outputs": [],
   "source": [
    "#TM(=Tele Marketing), 전화, 팩스 등을 이용하여 상품이나 서비스를 홍보하거나 판매하는 마케팅 활동"
   ]
  },
  {
   "cell_type": "code",
   "execution_count": 29,
   "id": "6a7b861a-2a28-4785-9307-3557ecabbe96",
   "metadata": {},
   "outputs": [],
   "source": [
    "#컬럼명에 'TM'이 들어가있는 것만 추출\n",
    "tm_cols = [col for col in df.columns if '_TM_' in col]"
   ]
  },
  {
   "cell_type": "code",
   "execution_count": 30,
   "id": "f1354ce6-1a76-4d61-a76f-dcb15eb7b3bc",
   "metadata": {},
   "outputs": [
    {
     "data": {
      "text/html": [
       "<div>\n",
       "<style scoped>\n",
       "    .dataframe tbody tr th:only-of-type {\n",
       "        vertical-align: middle;\n",
       "    }\n",
       "\n",
       "    .dataframe tbody tr th {\n",
       "        vertical-align: top;\n",
       "    }\n",
       "\n",
       "    .dataframe thead th {\n",
       "        text-align: right;\n",
       "    }\n",
       "</style>\n",
       "<table border=\"1\" class=\"dataframe\">\n",
       "  <thead>\n",
       "    <tr style=\"text-align: right;\">\n",
       "      <th>Segment</th>\n",
       "      <th>A</th>\n",
       "      <th>B</th>\n",
       "      <th>C</th>\n",
       "      <th>D</th>\n",
       "      <th>E</th>\n",
       "    </tr>\n",
       "  </thead>\n",
       "  <tbody>\n",
       "    <tr>\n",
       "      <th>컨택건수_카드론_TM_R6M</th>\n",
       "      <td>1.226337</td>\n",
       "      <td>1.583333</td>\n",
       "      <td>1.505040</td>\n",
       "      <td>1.748120</td>\n",
       "      <td>1.874827</td>\n",
       "    </tr>\n",
       "    <tr>\n",
       "      <th>컨택건수_이용유도_TM_R6M</th>\n",
       "      <td>0.203704</td>\n",
       "      <td>0.541667</td>\n",
       "      <td>0.399545</td>\n",
       "      <td>0.581748</td>\n",
       "      <td>1.291629</td>\n",
       "    </tr>\n",
       "    <tr>\n",
       "      <th>컨택건수_보험_TM_R6M</th>\n",
       "      <td>0.431070</td>\n",
       "      <td>0.645833</td>\n",
       "      <td>0.435199</td>\n",
       "      <td>0.447870</td>\n",
       "      <td>0.516140</td>\n",
       "    </tr>\n",
       "    <tr>\n",
       "      <th>컨택건수_카드론_TM_B0M</th>\n",
       "      <td>0.066872</td>\n",
       "      <td>0.125000</td>\n",
       "      <td>0.139925</td>\n",
       "      <td>0.168903</td>\n",
       "      <td>0.166960</td>\n",
       "    </tr>\n",
       "    <tr>\n",
       "      <th>컨택건수_이용유도_TM_B0M</th>\n",
       "      <td>0.000000</td>\n",
       "      <td>0.000000</td>\n",
       "      <td>0.003660</td>\n",
       "      <td>0.009733</td>\n",
       "      <td>0.096887</td>\n",
       "    </tr>\n",
       "  </tbody>\n",
       "</table>\n",
       "</div>"
      ],
      "text/plain": [
       "Segment                  A         B         C         D         E\n",
       "컨택건수_카드론_TM_R6M   1.226337  1.583333  1.505040  1.748120  1.874827\n",
       "컨택건수_이용유도_TM_R6M  0.203704  0.541667  0.399545  0.581748  1.291629\n",
       "컨택건수_보험_TM_R6M    0.431070  0.645833  0.435199  0.447870  0.516140\n",
       "컨택건수_카드론_TM_B0M   0.066872  0.125000  0.139925  0.168903  0.166960\n",
       "컨택건수_이용유도_TM_B0M  0.000000  0.000000  0.003660  0.009733  0.096887"
      ]
     },
     "execution_count": 30,
     "metadata": {},
     "output_type": "execute_result"
    }
   ],
   "source": [
    "df_tm = df[df['Segment'].isin(['A','B','C', 'D', 'E'])] \n",
    "segment_tm_mean = df_tm.groupby('Segment')[tm_cols].mean().T\n",
    "\n",
    "# TM 채널 관련 변수들 중 상위 5개 변수만 보기\n",
    "segment_tm_mean.sort_values(by='E', ascending=False).head(5)"
   ]
  },
  {
   "cell_type": "code",
   "execution_count": 31,
   "id": "d37f810b-acfe-4a07-8f5d-e77909471374",
   "metadata": {},
   "outputs": [
    {
     "data": {
      "image/png": "[encoded data removed]",
      "text/plain": [
       "<Figure size 1000x600 with 1 Axes>"
      ]
     },
     "metadata": {},
     "output_type": "display_data"
    }
   ],
   "source": [
    "import matplotlib.pyplot as plt\n",
    "\n",
    "# 상위 5개 변수\n",
    "top_vars = segment_tm_mean.sort_values(by='E', ascending=False).head(5)\n",
    "\n",
    "top_vars.plot(kind='bar', figsize=(10, 6))\n",
    "plt.title('TM 채널별 Segment 평균 컨택건수 (상위 5개)')\n",
    "plt.ylabel('평균 컨택 수')\n",
    "plt.xticks(rotation=10, ha='right', fontsize=10) #x축을 조금 오른쪽으로 배치하고 싶은데 잘 모르겠다 \n",
    "plt.tight_layout()\n",
    "plt.show()\n"
   ]
  },
  {
   "cell_type": "markdown",
   "id": "676fd24e-8eb4-42f8-9ae3-e14c2faea28a",
   "metadata": {},
   "source": [
    "- Segment E는 카드론, 이용유도에서 타 고객들보다 컨택 건수가 높음\n",
    "- `컨택건수_이용유도_TM_R6M`은 E가 압도적으로 높음\n",
    "- `컨택건수_보험_TM_R6M`은 B > E"
   ]
  },
  {
   "cell_type": "markdown",
   "id": "afd38139-586e-489d-a116-06df4533206d",
   "metadata": {},
   "source": [
    "## LMS(=Long Message Service), 장문 문자 서비스 "
   ]
  },
  {
   "cell_type": "code",
   "execution_count": 34,
   "id": "7525ebc0-913b-4583-b821-56c6d4c5274e",
   "metadata": {},
   "outputs": [],
   "source": [
    "#컬럼명에 'LMS'이 들어가있는 것만 추출\n",
    "lms_cols = [col for col in df.columns if '_LMS_' in col]"
   ]
  },
  {
   "cell_type": "code",
   "execution_count": 35,
   "id": "52f7d464-24fe-4a78-b372-082a383746d1",
   "metadata": {},
   "outputs": [
    {
     "data": {
      "text/html": [
       "<div>\n",
       "<style scoped>\n",
       "    .dataframe tbody tr th:only-of-type {\n",
       "        vertical-align: middle;\n",
       "    }\n",
       "\n",
       "    .dataframe tbody tr th {\n",
       "        vertical-align: top;\n",
       "    }\n",
       "\n",
       "    .dataframe thead th {\n",
       "        text-align: right;\n",
       "    }\n",
       "</style>\n",
       "<table border=\"1\" class=\"dataframe\">\n",
       "  <thead>\n",
       "    <tr style=\"text-align: right;\">\n",
       "      <th>Segment</th>\n",
       "      <th>A</th>\n",
       "      <th>B</th>\n",
       "      <th>C</th>\n",
       "      <th>D</th>\n",
       "      <th>E</th>\n",
       "    </tr>\n",
       "  </thead>\n",
       "  <tbody>\n",
       "    <tr>\n",
       "      <th>컨택건수_이용유도_LMS_R6M</th>\n",
       "      <td>3.848765</td>\n",
       "      <td>5.715278</td>\n",
       "      <td>3.709507</td>\n",
       "      <td>3.662689</td>\n",
       "      <td>3.488987</td>\n",
       "    </tr>\n",
       "    <tr>\n",
       "      <th>컨택건수_이용유도_LMS_B0M</th>\n",
       "      <td>0.886831</td>\n",
       "      <td>1.291667</td>\n",
       "      <td>0.749259</td>\n",
       "      <td>0.728627</td>\n",
       "      <td>0.631678</td>\n",
       "    </tr>\n",
       "    <tr>\n",
       "      <th>컨택건수_CA_LMS_R6M</th>\n",
       "      <td>0.240741</td>\n",
       "      <td>0.222222</td>\n",
       "      <td>0.219962</td>\n",
       "      <td>0.277249</td>\n",
       "      <td>0.282035</td>\n",
       "    </tr>\n",
       "    <tr>\n",
       "      <th>컨택건수_카드론_LMS_R6M</th>\n",
       "      <td>0.030864</td>\n",
       "      <td>0.097222</td>\n",
       "      <td>0.062387</td>\n",
       "      <td>0.086882</td>\n",
       "      <td>0.094788</td>\n",
       "    </tr>\n",
       "    <tr>\n",
       "      <th>컨택건수_리볼빙_LMS_R6M</th>\n",
       "      <td>0.005144</td>\n",
       "      <td>0.000000</td>\n",
       "      <td>0.004240</td>\n",
       "      <td>0.005624</td>\n",
       "      <td>0.004276</td>\n",
       "    </tr>\n",
       "  </tbody>\n",
       "</table>\n",
       "</div>"
      ],
      "text/plain": [
       "Segment                   A         B         C         D         E\n",
       "컨택건수_이용유도_LMS_R6M  3.848765  5.715278  3.709507  3.662689  3.488987\n",
       "컨택건수_이용유도_LMS_B0M  0.886831  1.291667  0.749259  0.728627  0.631678\n",
       "컨택건수_CA_LMS_R6M    0.240741  0.222222  0.219962  0.277249  0.282035\n",
       "컨택건수_카드론_LMS_R6M   0.030864  0.097222  0.062387  0.086882  0.094788\n",
       "컨택건수_리볼빙_LMS_R6M   0.005144  0.000000  0.004240  0.005624  0.004276"
      ]
     },
     "execution_count": 35,
     "metadata": {},
     "output_type": "execute_result"
    }
   ],
   "source": [
    "df_lms = df[df['Segment'].isin(['A','B','C', 'D', 'E'])] \n",
    "segment_lms_mean = df_lms.groupby('Segment')[lms_cols].mean().T\n",
    "\n",
    "# TM 채널 관련 변수들 중 상위 5개 변수만 보기\n",
    "segment_lms_mean.sort_values(by='E', ascending=False).head(5)"
   ]
  },
  {
   "cell_type": "code",
   "execution_count": 36,
   "id": "42735a26-93fe-4eac-b982-942809714372",
   "metadata": {},
   "outputs": [
    {
     "data": {
      "image/png": "[encoded data removed]",
      "text/plain": [
       "<Figure size 1000x600 with 1 Axes>"
      ]
     },
     "metadata": {},
     "output_type": "display_data"
    }
   ],
   "source": [
    "# 상위 3개 LMS 변수 (E 기준으로 내림차순 정렬)\n",
    "top_lms_vars = segment_lms_mean.sort_values(by='E', ascending=False).head(3)\n",
    "# 시각화\n",
    "ax = top_lms_vars.plot(kind='bar', figsize=(10, 6))\n",
    "\n",
    "# 제목, 축 라벨 등 설정\n",
    "ax.set_title('LMS 채널별 Segment 평균 컨택건수 (상위 3개)', fontsize=13, loc='center')\n",
    "ax.set_ylabel('평균 컨택 수')\n",
    "# x축 텍스트 설정\n",
    "ax.set_xticklabels(ax.get_xticklabels(), rotation=0, ha='right', fontsize=9)\n",
    "\n",
    "# 범례\n",
    "plt.legend(title='Segment', fontsize=9, title_fontsize=10)\n",
    "plt.grid(True)\n",
    "plt.tight_layout(pad=2.5)\n",
    "plt.show()\n"
   ]
  },
  {
   "cell_type": "markdown",
   "id": "142cdf7d-83a4-46de-b532-4ef605bdb584",
   "metadata": {},
   "source": [
    "- `컨택건수_이용유도_R6M`, `컨택건수_이용유도_B0M` 모두 세그먼트 B가 가장 높음\n",
    "- `컨태건수_CA_LMS_R6M`은 E가 가장 높음"
   ]
  },
  {
   "cell_type": "markdown",
   "id": "82a43f3d-087c-4b43-876f-82d7188eaad1",
   "metadata": {},
   "source": [
    "TM vs LMS 비교\n",
    "- TM 채널에서는 Segment E의 평균 컨택건수가 가장 높아, 주 대상 고객군으로 집중된 경향이 뚜렷하다.\n",
    "- 반면 LMS 채널에서는 Segment C의 평균 컨택건수가 가장 높지만, 세그먼트 간 격차가 크지는 않아 비교적 균형적으로 분포된 것으로 보인다.\n"
   ]
  },
  {
   "cell_type": "markdown",
   "id": "2f6486f8-7ba8-4c7f-92fb-25581d9dff74",
   "metadata": {},
   "source": [
    "## 단기BOM vs 장기R6M 채권 평균컨택건수 비교"
   ]
  },
  {
   "cell_type": "code",
   "execution_count": 40,
   "id": "43c981bf-3bd1-4055-847d-a5ad2aea98e4",
   "metadata": {},
   "outputs": [
    {
     "data": {
      "text/html": [
       "<div>\n",
       "<style scoped>\n",
       "    .dataframe tbody tr th:only-of-type {\n",
       "        vertical-align: middle;\n",
       "    }\n",
       "\n",
       "    .dataframe tbody tr th {\n",
       "        vertical-align: top;\n",
       "    }\n",
       "\n",
       "    .dataframe thead th {\n",
       "        text-align: right;\n",
       "    }\n",
       "</style>\n",
       "<table border=\"1\" class=\"dataframe\">\n",
       "  <thead>\n",
       "    <tr style=\"text-align: right;\">\n",
       "      <th>Segment</th>\n",
       "      <th>A_B0M</th>\n",
       "      <th>B_B0M</th>\n",
       "      <th>C_B0M</th>\n",
       "      <th>D_B0M</th>\n",
       "      <th>E_B0M</th>\n",
       "      <th>A_R6M</th>\n",
       "      <th>B_R6M</th>\n",
       "      <th>C_R6M</th>\n",
       "      <th>D_R6M</th>\n",
       "      <th>E_R6M</th>\n",
       "    </tr>\n",
       "  </thead>\n",
       "  <tbody>\n",
       "    <tr>\n",
       "      <th>컨택건수</th>\n",
       "      <td>0.005144</td>\n",
       "      <td>0.0</td>\n",
       "      <td>0.031515</td>\n",
       "      <td>0.035059</td>\n",
       "      <td>0.025806</td>\n",
       "      <td>0.316872</td>\n",
       "      <td>0.375</td>\n",
       "      <td>0.515464</td>\n",
       "      <td>0.544966</td>\n",
       "      <td>0.401212</td>\n",
       "    </tr>\n",
       "  </tbody>\n",
       "</table>\n",
       "</div>"
      ],
      "text/plain": [
       "Segment     A_B0M  B_B0M     C_B0M     D_B0M     E_B0M     A_R6M  B_R6M  \\\n",
       "컨택건수     0.005144    0.0  0.031515  0.035059  0.025806  0.316872  0.375   \n",
       "\n",
       "Segment     C_R6M     D_R6M     E_R6M  \n",
       "컨택건수     0.515464  0.544966  0.401212  "
      ]
     },
     "metadata": {},
     "output_type": "display_data"
    }
   ],
   "source": [
    "# 1. 채권 관련 단기(B0M) 및 장기(R6M) 컬럼 추출\n",
    "short_term_cols = [col for col in df.columns if '_채권_B0M' in col]\n",
    "long_term_cols = [col for col in df.columns if '_채권_R6M' in col]\n",
    "\n",
    "# 2. 전체 세그먼트 기준 평균값 계산\n",
    "short_term_mean = df.groupby('Segment')[short_term_cols].mean()\n",
    "long_term_mean = df.groupby('Segment')[long_term_cols].mean()\n",
    "\n",
    "# 3. 단기/장기 컬럼 이름을 동일하게 정리 (ex: 채권_B0M → 채권)\n",
    "short_term_mean.columns = [col.replace('_채권_B0M', '') for col in short_term_mean.columns]\n",
    "long_term_mean.columns = [col.replace('_채권_R6M', '') for col in long_term_mean.columns]\n",
    "\n",
    "# 4. 단기 vs 장기 평균값을 세그먼트별로 비교 (변수 기준으로 보기 위해 전치)\n",
    "compare_all_segments = pd.concat([\n",
    "    short_term_mean.T.rename(columns=lambda x: f'{x}_B0M'),\n",
    "    long_term_mean.T.rename(columns=lambda x: f'{x}_R6M')\n",
    "], axis=1)\n",
    "\n",
    "# 5. 결과 확인\n",
    "display(compare_all_segments)"
   ]
  },
  {
   "cell_type": "code",
   "execution_count": 178,
   "id": "d31bc20c-103a-4a9a-8ba3-3311d144b3bd",
   "metadata": {},
   "outputs": [
    {
     "data": {
      "image/png": "[encoded data removed]",
      "text/plain": [
       "<Figure size 1000x600 with 1 Axes>"
      ]
     },
     "metadata": {},
     "output_type": "display_data"
    }
   ],
   "source": [
    "#시각화\n",
    "# 1. 데이터 구성 (출력된 값 기반)\n",
    "data = {\n",
    "    'A': [0.005144, 0.316872],\n",
    "    'B': [0.0, 0.375],\n",
    "    'C': [0.031515, 0.515464],\n",
    "    'D': [0.035059, 0.544966],\n",
    "    'E': [0.025806, 0.401212]\n",
    "}\n",
    "df_plot = pd.DataFrame(data, index=['B0M', 'R6M']).T  # index: Segment\n",
    "\n",
    "# 2. 시각화\n",
    "df_plot.plot(kind='bar', figsize=(10, 6))\n",
    "\n",
    "plt.title('세그먼트별 채권 컨택건수 평균 단기/장기 비교', fontsize=14)\n",
    "plt.xlabel('Segment', fontsize=12)\n",
    "plt.ylabel('평균 컨택건수', fontsize=12)\n",
    "plt.xticks(rotation=0)\n",
    "plt.legend(title='기간', fontsize=10)\n",
    "plt.grid(axis='y', linestyle='--', alpha=0.7)\n",
    "plt.tight_layout()\n",
    "plt.show()\n"
   ]
  },
  {
   "cell_type": "markdown",
   "id": "1762a361-2b3a-41c0-94b1-0bd303b41179",
   "metadata": {},
   "source": [
    "- C, D 세그먼트는 단기 채권 컨택건수 평균이 상대적으로 높음. 최근 연체 발생 또는 리스크 관리 중일 가능성이 있음.\n",
    "- 반면, A, B 세그먼트는 단기 채권 컨택건수가 매우 적거나 없어, 상환 우수 고객이거나 반대로 컨택 대상에서 제외된 고객일 수 있음.\n",
    "- 컨택 데이터만으로는 상환 여부를 단정하기 어렵기 때문에 연체 정보나 고객 상태 데이터를 함께 확인할 필요가 있음."
   ]
  },
  {
   "cell_type": "markdown",
   "id": "eecb3f19-25f5-4433-9cce-f28aa08edabf",
   "metadata": {},
   "source": [
    "## 단기 vs 장기 FDS(사기탐지거래) 컨택건수 비교"
   ]
  },
  {
   "cell_type": "code",
   "execution_count": 181,
   "id": "5e195eca-0862-4cb8-8d01-b7635a0492be",
   "metadata": {},
   "outputs": [
    {
     "data": {
      "text/plain": [
       "array([0])"
      ]
     },
     "execution_count": 181,
     "metadata": {},
     "output_type": "execute_result"
    }
   ],
   "source": [
    "df['컨택건수_FDS_R6M'].unique()"
   ]
  },
  {
   "cell_type": "code",
   "execution_count": 182,
   "id": "71c26ac0-4d4f-4fee-bcaf-aabcfe430ccf",
   "metadata": {
    "scrolled": true
   },
   "outputs": [
    {
     "data": {
      "text/plain": [
       "array([0])"
      ]
     },
     "execution_count": 182,
     "metadata": {},
     "output_type": "execute_result"
    }
   ],
   "source": [
    "df['컨택건수_FDS_B0M'].unique()"
   ]
  },
  {
   "cell_type": "markdown",
   "id": "09256636-1ca7-4f52-9fe5-f6ca90c98eb5",
   "metadata": {},
   "source": [
    "- 단기, 장기 모두 FDS 컨택건수가 0인 상태"
   ]
  },
  {
   "cell_type": "code",
   "execution_count": 184,
   "id": "f27fcfe9-529c-449c-a0f9-79bfddd4c23f",
   "metadata": {},
   "outputs": [
    {
     "data": {
      "text/plain": [
       "Index(['기준년월', 'ID', '컨택건수_카드론_TM_B0M', '컨택건수_리볼빙_TM_B0M', '컨택건수_CA_TM_B0M',\n",
       "       '컨택건수_이용유도_TM_B0M', '컨택건수_신용발급_TM_B0M', '컨택건수_부대서비스_TM_B0M',\n",
       "       '컨택건수_포인트소진_TM_B0M', '컨택건수_보험_TM_B0M', '컨택건수_카드론_LMS_B0M',\n",
       "       '컨택건수_CA_LMS_B0M', '컨택건수_리볼빙_LMS_B0M', '컨택건수_이용유도_LMS_B0M',\n",
       "       '컨택건수_카드론_EM_B0M', '컨택건수_CA_EM_B0M', '컨택건수_리볼빙_EM_B0M',\n",
       "       '컨택건수_이용유도_EM_B0M', '컨택건수_카드론_청구서_B0M', '컨택건수_CA_청구서_B0M',\n",
       "       '컨택건수_리볼빙_청구서_B0M', '컨택건수_이용유도_청구서_B0M', '컨택건수_카드론_인터넷_B0M',\n",
       "       '컨택건수_CA_인터넷_B0M', '컨택건수_리볼빙_인터넷_B0M', '컨택건수_이용유도_인터넷_B0M',\n",
       "       '컨택건수_카드론_당사앱_B0M', '컨택건수_CA_당사앱_B0M', '컨택건수_리볼빙_당사앱_B0M',\n",
       "       '컨택건수_이용유도_당사앱_B0M', '컨택건수_카드론_TM_R6M', '컨택건수_CA_TM_R6M',\n",
       "       '컨택건수_리볼빙_TM_R6M', '컨택건수_이용유도_TM_R6M', '컨택건수_신용발급_TM_R6M',\n",
       "       '컨택건수_부대서비스_TM_R6M', '컨택건수_포인트소진_TM_R6M', '컨택건수_보험_TM_R6M',\n",
       "       '컨택건수_카드론_LMS_R6M', '컨택건수_CA_LMS_R6M', '컨택건수_리볼빙_LMS_R6M',\n",
       "       '컨택건수_이용유도_LMS_R6M', '컨택건수_카드론_EM_R6M', '컨택건수_CA_EM_R6M',\n",
       "       '컨택건수_리볼빙_EM_R6M', '컨택건수_이용유도_EM_R6M', '컨택건수_카드론_청구서_R6M',\n",
       "       '컨택건수_CA_청구서_R6M', '컨택건수_리볼빙_청구서_R6M', '컨택건수_이용유도_청구서_R6M',\n",
       "       '컨택건수_카드론_인터넷_R6M', '컨택건수_CA_인터넷_R6M', '컨택건수_리볼빙_인터넷_R6M',\n",
       "       '컨택건수_이용유도_인터넷_R6M', '컨택건수_카드론_당사앱_R6M', '컨택건수_CA_당사앱_R6M',\n",
       "       '컨택건수_리볼빙_당사앱_R6M', '컨택건수_이용유도_당사앱_R6M', '컨택건수_채권_B0M', '컨택건수_FDS_B0M',\n",
       "       '컨택건수_채권_R6M', '컨택건수_FDS_R6M', '캠페인접촉건수_R12M', '캠페인접촉일수_R12M',\n",
       "       'Segment', '접촉빈도'],\n",
       "      dtype='object')"
      ]
     },
     "execution_count": 184,
     "metadata": {},
     "output_type": "execute_result"
    }
   ],
   "source": [
    "df.columns"
   ]
  },
  {
   "attachments": {},
   "cell_type": "markdown",
   "id": "04474a0f-2497-4bbc-974b-48d7e6424cc6",
   "metadata": {},
   "source": [
    "## 세그먼트별 부대서비스 TM채널 마케팅 평균 노출 건수 비교"
   ]
  },
  {
   "cell_type": "code",
   "execution_count": 231,
   "id": "2bc42d88-c175-43cf-9062-73678af3105c",
   "metadata": {},
   "outputs": [
    {
     "data": {
      "text/html": [
       "<div>\n",
       "<style scoped>\n",
       "    .dataframe tbody tr th:only-of-type {\n",
       "        vertical-align: middle;\n",
       "    }\n",
       "\n",
       "    .dataframe tbody tr th {\n",
       "        vertical-align: top;\n",
       "    }\n",
       "\n",
       "    .dataframe thead th {\n",
       "        text-align: right;\n",
       "    }\n",
       "</style>\n",
       "<table border=\"1\" class=\"dataframe\">\n",
       "  <thead>\n",
       "    <tr style=\"text-align: right;\">\n",
       "      <th></th>\n",
       "      <th>컨택건수_부대서비스_TM_R6M</th>\n",
       "    </tr>\n",
       "    <tr>\n",
       "      <th>Segment</th>\n",
       "      <th></th>\n",
       "    </tr>\n",
       "  </thead>\n",
       "  <tbody>\n",
       "    <tr>\n",
       "      <th>A</th>\n",
       "      <td>0.033951</td>\n",
       "    </tr>\n",
       "    <tr>\n",
       "      <th>B</th>\n",
       "      <td>0.152778</td>\n",
       "    </tr>\n",
       "    <tr>\n",
       "      <th>C</th>\n",
       "      <td>0.046383</td>\n",
       "    </tr>\n",
       "    <tr>\n",
       "      <th>D</th>\n",
       "      <td>0.054736</td>\n",
       "    </tr>\n",
       "    <tr>\n",
       "      <th>E</th>\n",
       "      <td>0.056545</td>\n",
       "    </tr>\n",
       "  </tbody>\n",
       "</table>\n",
       "</div>"
      ],
      "text/plain": [
       "         컨택건수_부대서비스_TM_R6M\n",
       "Segment                   \n",
       "A                 0.033951\n",
       "B                 0.152778\n",
       "C                 0.046383\n",
       "D                 0.054736\n",
       "E                 0.056545"
      ]
     },
     "execution_count": 231,
     "metadata": {},
     "output_type": "execute_result"
    }
   ],
   "source": [
    "df.groupby('Segment')[['컨택건수_부대서비스_TM_R6M']].mean()"
   ]
  },
  {
   "cell_type": "code",
   "execution_count": 232,
   "id": "1d36aad0-61ae-466a-8af8-bfb2eaf0f75d",
   "metadata": {},
   "outputs": [
    {
     "data": {
      "image/png": "[encoded data removed]",
      "text/plain": [
       "<Figure size 1200x600 with 1 Axes>"
      ]
     },
     "metadata": {},
     "output_type": "display_data"
    }
   ],
   "source": [
    "import matplotlib.pyplot as plt\n",
    "\n",
    "df.groupby('Segment')[['컨택건수_부대서비스_TM_R6M']].mean().plot(kind='bar')\n",
    "plt.title(\"세그먼트별 부대서비스 TM채널 마케팅 평균 노출 건수 (최근6개월간)\")\n",
    "plt.ylabel(\"평균 컨택건수\")\n",
    "plt.xticks(rotation=0)\n",
    "plt.show()\n"
   ]
  },
  {
   "cell_type": "markdown",
   "id": "b11dbb3d-0481-41ab-8f0d-7b94f925f20b",
   "metadata": {},
   "source": [
    "- 분석 결과, 세그먼트 B는 최근 6개월간 부대서비스 마케팅 컨택 건수가 가장 높음\n",
    "- 세그먼트 B는 부가서비스 혜택에 민감하거나 타겟 마케팅 우선 순위에 포함된 집단일 가능성을 시사함. \n",
    "- 세그먼트 A, C, D, E는 상대적으로 낮은 컨택 평균을 보이며, 상품 유형이나 채널 전략을 달리 가져갈 필요가 있음"
   ]
  },
  {
   "cell_type": "markdown",
   "id": "ad2c65e2-b118-4e88-9cc9-075e7dae1911",
   "metadata": {},
   "source": [
    "## 세그먼트별 캠페인 접촉건수/접촉일수 평균 비교"
   ]
  },
  {
   "cell_type": "code",
   "execution_count": 190,
   "id": "1982c814-0816-4b83-98e8-e13626299b0b",
   "metadata": {},
   "outputs": [
    {
     "data": {
      "text/plain": [
       "array([ 1., 15., 10.,  5., 20., 25.])"
      ]
     },
     "execution_count": 190,
     "metadata": {},
     "output_type": "execute_result"
    }
   ],
   "source": [
    "df['캠페인접촉건수_R12M'].unique()"
   ]
  },
  {
   "cell_type": "code",
   "execution_count": 191,
   "id": "38cdcff9-d524-4008-aaf0-71d1dd882eb0",
   "metadata": {},
   "outputs": [
    {
     "data": {
      "text/plain": [
       "array([ 1., 10.,  5., 15., 20.])"
      ]
     },
     "execution_count": 191,
     "metadata": {},
     "output_type": "execute_result"
    }
   ],
   "source": [
    "df['캠페인접촉일수_R12M'].unique()"
   ]
  },
  {
   "cell_type": "code",
   "execution_count": 192,
   "id": "9f21331d-eb53-4648-ab03-0f5b08b39e2e",
   "metadata": {},
   "outputs": [],
   "source": [
    "# 문자열이기 때문에 문자열에서 숫자만 뽑아준다.\n",
    "df['캠페인접촉건수_R12M'] = df['캠페인접촉건수_R12M'].astype(str).str.extract('(\\d+)').astype(float)  #수치형데이터로 변환\n",
    "df['캠페인접촉일수_R12M'] = df['캠페인접촉일수_R12M'].astype(str).str.extract('(\\d+)').astype(float)"
   ]
  },
  {
   "cell_type": "code",
   "execution_count": 193,
   "id": "a569931f-24ec-47b9-9998-4548b403e612",
   "metadata": {},
   "outputs": [
    {
     "data": {
      "text/html": [
       "<div>\n",
       "<style scoped>\n",
       "    .dataframe tbody tr th:only-of-type {\n",
       "        vertical-align: middle;\n",
       "    }\n",
       "\n",
       "    .dataframe tbody tr th {\n",
       "        vertical-align: top;\n",
       "    }\n",
       "\n",
       "    .dataframe thead th {\n",
       "        text-align: right;\n",
       "    }\n",
       "</style>\n",
       "<table border=\"1\" class=\"dataframe\">\n",
       "  <thead>\n",
       "    <tr style=\"text-align: right;\">\n",
       "      <th></th>\n",
       "      <th>캠페인접촉건수_R12M</th>\n",
       "      <th>캠페인접촉일수_R12M</th>\n",
       "    </tr>\n",
       "    <tr>\n",
       "      <th>Segment</th>\n",
       "      <th></th>\n",
       "      <th></th>\n",
       "    </tr>\n",
       "  </thead>\n",
       "  <tbody>\n",
       "    <tr>\n",
       "      <th>A</th>\n",
       "      <td>2.519547</td>\n",
       "      <td>2.389918</td>\n",
       "    </tr>\n",
       "    <tr>\n",
       "      <th>B</th>\n",
       "      <td>2.972222</td>\n",
       "      <td>2.673611</td>\n",
       "    </tr>\n",
       "    <tr>\n",
       "      <th>C</th>\n",
       "      <td>2.896755</td>\n",
       "      <td>2.685069</td>\n",
       "    </tr>\n",
       "    <tr>\n",
       "      <th>D</th>\n",
       "      <td>3.194284</td>\n",
       "      <td>2.958513</td>\n",
       "    </tr>\n",
       "    <tr>\n",
       "      <th>E</th>\n",
       "      <td>3.265033</td>\n",
       "      <td>3.036721</td>\n",
       "    </tr>\n",
       "  </tbody>\n",
       "</table>\n",
       "</div>"
      ],
      "text/plain": [
       "         캠페인접촉건수_R12M  캠페인접촉일수_R12M\n",
       "Segment                            \n",
       "A            2.519547      2.389918\n",
       "B            2.972222      2.673611\n",
       "C            2.896755      2.685069\n",
       "D            3.194284      2.958513\n",
       "E            3.265033      3.036721"
      ]
     },
     "execution_count": 193,
     "metadata": {},
     "output_type": "execute_result"
    }
   ],
   "source": [
    "df.groupby('Segment')[['캠페인접촉건수_R12M', '캠페인접촉일수_R12M']].mean()"
   ]
  },
  {
   "cell_type": "code",
   "execution_count": 237,
   "id": "a9254bbd-ea93-45fc-8661-fd496c450db6",
   "metadata": {},
   "outputs": [
    {
     "data": {
      "image/png": "[encoded data removed]",
      "text/plain": [
       "<Figure size 1000x600 with 1 Axes>"
      ]
     },
     "metadata": {},
     "output_type": "display_data"
    }
   ],
   "source": [
    "campaign_mean = df.groupby('Segment')[['캠페인접촉건수_R12M', '캠페인접촉일수_R12M']].mean()\n",
    "campaign_mean.plot(kind='bar', figsize=(10, 6))\n",
    "plt.title('최근 1년간 세그먼트별 캠페인 접촉건수 / 접촉일수 평균 비교')\n",
    "plt.ylabel('평균 접촉 수치')\n",
    "plt.xlabel('Segment')\n",
    "plt.xticks(rotation=0)\n",
    "plt.legend(title='지표')\n",
    "plt.grid(axis='y', linestyle='--', alpha=0.7)\n",
    "plt.tight_layout()\n",
    "plt.show()"
   ]
  },
  {
   "cell_type": "markdown",
   "id": "12abc24c-f4da-4384-85b6-9efb386c4ff9",
   "metadata": {},
   "source": [
    "- 세그먼트 E는 캠페인 접촉건수와 접촉일수 모두 가장 높음 (마케팅의 핵심 타깃군일 가능성이 큼)\n",
    "- 세그먼트 D는 E에 이어 두 번째로 높은 접촉 수준을 보임 \n",
    "- 세그먼트 A는 두 지표 모두 가장 낮음 → 현재 마케팅에서 비주요 타깃으로 분류되었을 가능성 높음"
   ]
  },
  {
   "attachments": {},
   "cell_type": "markdown",
   "id": "03a5f73d-053e-4491-b8f2-ad76c539032a",
   "metadata": {},
   "source": [
    "## 세그먼트별 보험 TM채널 마케팅 노출 건수 비교(단기/장기)"
   ]
  },
  {
   "cell_type": "code",
   "execution_count": 198,
   "id": "fe88d625-07f1-4d73-85cc-a8bf5e070735",
   "metadata": {},
   "outputs": [
    {
     "data": {
      "text/plain": [
       "['컨택건수_보험_TM_B0M', '컨택건수_보험_TM_R6M']"
      ]
     },
     "execution_count": 198,
     "metadata": {},
     "output_type": "execute_result"
    }
   ],
   "source": [
    "[col for col in df.columns if '보험' in col]"
   ]
  },
  {
   "cell_type": "code",
   "execution_count": 199,
   "id": "69136c91-ab8d-4a97-b317-ddb061ce3fac",
   "metadata": {},
   "outputs": [
    {
     "data": {
      "text/html": [
       "<div>\n",
       "<style scoped>\n",
       "    .dataframe tbody tr th:only-of-type {\n",
       "        vertical-align: middle;\n",
       "    }\n",
       "\n",
       "    .dataframe tbody tr th {\n",
       "        vertical-align: top;\n",
       "    }\n",
       "\n",
       "    .dataframe thead th {\n",
       "        text-align: right;\n",
       "    }\n",
       "</style>\n",
       "<table border=\"1\" class=\"dataframe\">\n",
       "  <thead>\n",
       "    <tr style=\"text-align: right;\">\n",
       "      <th></th>\n",
       "      <th>컨택건수_보험_TM_B0M</th>\n",
       "      <th>컨택건수_보험_TM_R6M</th>\n",
       "    </tr>\n",
       "    <tr>\n",
       "      <th>Segment</th>\n",
       "      <th></th>\n",
       "      <th></th>\n",
       "    </tr>\n",
       "  </thead>\n",
       "  <tbody>\n",
       "    <tr>\n",
       "      <th>A</th>\n",
       "      <td>0.013374</td>\n",
       "      <td>0.431070</td>\n",
       "    </tr>\n",
       "    <tr>\n",
       "      <th>B</th>\n",
       "      <td>0.048611</td>\n",
       "      <td>0.645833</td>\n",
       "    </tr>\n",
       "    <tr>\n",
       "      <th>C</th>\n",
       "      <td>0.013073</td>\n",
       "      <td>0.435199</td>\n",
       "    </tr>\n",
       "    <tr>\n",
       "      <th>D</th>\n",
       "      <td>0.013174</td>\n",
       "      <td>0.447870</td>\n",
       "    </tr>\n",
       "    <tr>\n",
       "      <th>E</th>\n",
       "      <td>0.013167</td>\n",
       "      <td>0.516140</td>\n",
       "    </tr>\n",
       "  </tbody>\n",
       "</table>\n",
       "</div>"
      ],
      "text/plain": [
       "         컨택건수_보험_TM_B0M  컨택건수_보험_TM_R6M\n",
       "Segment                                \n",
       "A              0.013374        0.431070\n",
       "B              0.048611        0.645833\n",
       "C              0.013073        0.435199\n",
       "D              0.013174        0.447870\n",
       "E              0.013167        0.516140"
      ]
     },
     "execution_count": 199,
     "metadata": {},
     "output_type": "execute_result"
    }
   ],
   "source": [
    "df.groupby('Segment')[['컨택건수_보험_TM_B0M', '컨택건수_보험_TM_R6M']].mean()"
   ]
  },
  {
   "cell_type": "code",
   "execution_count": 239,
   "id": "5badcc78-9e64-40ed-abea-fd86545546da",
   "metadata": {},
   "outputs": [
    {
     "data": {
      "image/png": "[encoded data removed]",
      "text/plain": [
       "<Figure size 1200x600 with 1 Axes>"
      ]
     },
     "metadata": {},
     "output_type": "display_data"
    }
   ],
   "source": [
    "insurance_mean = df.groupby('Segment')[['컨택건수_보험_TM_B0M', '컨택건수_보험_TM_R6M']].mean()\n",
    "insurance_mean.plot(kind='bar')  \n",
    "plt.title('보험 TM채널 마케팅 노출 건수 단기/장기 비교')\n",
    "plt.ylabel('평균 노출 건수')\n",
    "plt.xlabel('Segment')\n",
    "plt.xticks(rotation=0)\n",
    "plt.legend(title='지표')\n",
    "plt.show()"
   ]
  },
  {
   "cell_type": "markdown",
   "id": "4d989285-7f2c-4f35-9610-92e954719f20",
   "metadata": {},
   "source": [
    "- 세그먼트 B는 단기/장기 모두 보험 마케팅 노출 건수가 가장 높음\n",
    "- 세그먼트 B는 보험 마케팅의 핵심 타깃일 가능성이 높음\n",
    "- 세그먼트 E의 보험 마케팅 노출 건수가 두 번째로 높음 "
   ]
  },
  {
   "cell_type": "markdown",
   "id": "1bd506d0-228b-4f0e-b481-ae707125e81b",
   "metadata": {},
   "source": [
    "## 카드론"
   ]
  },
  {
   "cell_type": "code",
   "execution_count": null,
   "id": "0b7bd600-5092-4a19-83f1-0a334aa5d944",
   "metadata": {},
   "outputs": [],
   "source": [
    "## 카드론, CA, 리볼빙 분석 진행"
   ]
  },
  {
   "cell_type": "code",
   "execution_count": null,
   "id": "f0414f31-49ef-4d0f-9982-2481ebded3ba",
   "metadata": {},
   "outputs": [],
   "source": []
  },
  {
   "cell_type": "code",
   "execution_count": null,
   "id": "18d16752-d61d-4711-8f9d-83cd3303749d",
   "metadata": {},
   "outputs": [],
   "source": []
  },
  {
   "cell_type": "code",
   "execution_count": null,
   "id": "86d31efc-55b7-4056-9a67-16ed2f3abb6e",
   "metadata": {},
   "outputs": [],
   "source": []
  },
  {
   "cell_type": "code",
   "execution_count": null,
   "id": "465e87f4-78bf-4de4-898f-276368428007",
   "metadata": {},
   "outputs": [],
   "source": []
  },
  {
   "cell_type": "code",
   "execution_count": null,
   "id": "083ef45b-4ce1-47f6-abf7-9b11dafe8537",
   "metadata": {},
   "outputs": [],
   "source": []
  },
  {
   "cell_type": "code",
   "execution_count": null,
   "id": "bfd5a55b-141a-47da-ad83-c526c9e9d1fd",
   "metadata": {},
   "outputs": [],
   "source": []
  },
  {
   "cell_type": "code",
   "execution_count": null,
   "id": "dec37e6c-dbb0-4769-aebb-faa9524aa81f",
   "metadata": {},
   "outputs": [],
   "source": []
  },
  {
   "cell_type": "code",
   "execution_count": null,
   "id": "edfc6ae6-d7e5-471a-8907-20a308f5a1c0",
   "metadata": {},
   "outputs": [],
   "source": []
  },
  {
   "cell_type": "code",
   "execution_count": 241,
   "id": "16faf264-a26a-454a-8302-14606b204afd",
   "metadata": {},
   "outputs": [
    {
     "data": {
      "text/plain": [
       "['컨택건수_카드론_TM_B0M',\n",
       " '컨택건수_카드론_LMS_B0M',\n",
       " '컨택건수_카드론_EM_B0M',\n",
       " '컨택건수_카드론_청구서_B0M',\n",
       " '컨택건수_카드론_인터넷_B0M',\n",
       " '컨택건수_카드론_당사앱_B0M',\n",
       " '컨택건수_카드론_TM_R6M',\n",
       " '컨택건수_카드론_LMS_R6M',\n",
       " '컨택건수_카드론_EM_R6M',\n",
       " '컨택건수_카드론_청구서_R6M',\n",
       " '컨택건수_카드론_인터넷_R6M',\n",
       " '컨택건수_카드론_당사앱_R6M']"
      ]
     },
     "execution_count": 241,
     "metadata": {},
     "output_type": "execute_result"
    }
   ],
   "source": [
    "[col for col in df.columns if '카드론' in col]"
   ]
  },
  {
   "cell_type": "code",
   "execution_count": 260,
   "id": "8ac3661b-5e03-4e8e-a703-90abcb41b83e",
   "metadata": {},
   "outputs": [
    {
     "data": {
      "text/html": [
       "<div>\n",
       "<style scoped>\n",
       "    .dataframe tbody tr th:only-of-type {\n",
       "        vertical-align: middle;\n",
       "    }\n",
       "\n",
       "    .dataframe tbody tr th {\n",
       "        vertical-align: top;\n",
       "    }\n",
       "\n",
       "    .dataframe thead th {\n",
       "        text-align: right;\n",
       "    }\n",
       "</style>\n",
       "<table border=\"1\" class=\"dataframe\">\n",
       "  <thead>\n",
       "    <tr style=\"text-align: right;\">\n",
       "      <th></th>\n",
       "      <th>TM_R6M</th>\n",
       "      <th>카드론_TM_R6M</th>\n",
       "      <th>카드론_장기컨택건수</th>\n",
       "    </tr>\n",
       "    <tr>\n",
       "      <th>Segment</th>\n",
       "      <th></th>\n",
       "      <th></th>\n",
       "      <th></th>\n",
       "    </tr>\n",
       "  </thead>\n",
       "  <tbody>\n",
       "    <tr>\n",
       "      <th>A</th>\n",
       "      <td>1.226337</td>\n",
       "      <td>1.226337</td>\n",
       "      <td>1.389918</td>\n",
       "    </tr>\n",
       "    <tr>\n",
       "      <th>B</th>\n",
       "      <td>1.583333</td>\n",
       "      <td>1.583333</td>\n",
       "      <td>1.861111</td>\n",
       "    </tr>\n",
       "    <tr>\n",
       "      <th>C</th>\n",
       "      <td>1.505040</td>\n",
       "      <td>1.505040</td>\n",
       "      <td>1.676221</td>\n",
       "    </tr>\n",
       "    <tr>\n",
       "      <th>D</th>\n",
       "      <td>1.748120</td>\n",
       "      <td>1.748120</td>\n",
       "      <td>1.952320</td>\n",
       "    </tr>\n",
       "    <tr>\n",
       "      <th>E</th>\n",
       "      <td>1.874827</td>\n",
       "      <td>1.874827</td>\n",
       "      <td>2.073675</td>\n",
       "    </tr>\n",
       "  </tbody>\n",
       "</table>\n",
       "</div>"
      ],
      "text/plain": [
       "           TM_R6M  카드론_TM_R6M  카드론_장기컨택건수\n",
       "Segment                                  \n",
       "A        1.226337    1.226337    1.389918\n",
       "B        1.583333    1.583333    1.861111\n",
       "C        1.505040    1.505040    1.676221\n",
       "D        1.748120    1.748120    1.952320\n",
       "E        1.874827    1.874827    2.073675"
      ]
     },
     "execution_count": 260,
     "metadata": {},
     "output_type": "execute_result"
    }
   ],
   "source": [
    "# Step 1. 카드론 컬럼 필터\n",
    "cardloan_cols = [col for col in df.columns if '카드론' in col]"
   ]
  },
  {
   "cell_type": "code",
   "execution_count": 262,
   "id": "e7d5a1f2-994e-47a2-a491-7e45f1e6c306",
   "metadata": {},
   "outputs": [
    {
     "data": {
      "text/plain": [
       "['컨택건수_CA_TM_B0M',\n",
       " '컨택건수_CA_LMS_B0M',\n",
       " '컨택건수_CA_EM_B0M',\n",
       " '컨택건수_CA_청구서_B0M',\n",
       " '컨택건수_CA_인터넷_B0M',\n",
       " '컨택건수_CA_당사앱_B0M',\n",
       " '컨택건수_CA_TM_R6M',\n",
       " '컨택건수_CA_LMS_R6M',\n",
       " '컨택건수_CA_EM_R6M',\n",
       " '컨택건수_CA_청구서_R6M',\n",
       " '컨택건수_CA_인터넷_R6M',\n",
       " '컨택건수_CA_당사앱_R6M']"
      ]
     },
     "execution_count": 262,
     "metadata": {},
     "output_type": "execute_result"
    }
   ],
   "source": [
    "[col for col in df.columns if 'CA' in col]"
   ]
  },
  {
   "cell_type": "code",
   "execution_count": 264,
   "id": "764e55cc-6748-4080-b747-05f0d2cdae10",
   "metadata": {},
   "outputs": [
    {
     "data": {
      "text/plain": [
       "['컨택건수_리볼빙_TM_B0M',\n",
       " '컨택건수_리볼빙_LMS_B0M',\n",
       " '컨택건수_리볼빙_EM_B0M',\n",
       " '컨택건수_리볼빙_청구서_B0M',\n",
       " '컨택건수_리볼빙_인터넷_B0M',\n",
       " '컨택건수_리볼빙_당사앱_B0M',\n",
       " '컨택건수_리볼빙_TM_R6M',\n",
       " '컨택건수_리볼빙_LMS_R6M',\n",
       " '컨택건수_리볼빙_EM_R6M',\n",
       " '컨택건수_리볼빙_청구서_R6M',\n",
       " '컨택건수_리볼빙_인터넷_R6M',\n",
       " '컨택건수_리볼빙_당사앱_R6M']"
      ]
     },
     "execution_count": 264,
     "metadata": {},
     "output_type": "execute_result"
    }
   ],
   "source": [
    "[col for col in df.columns if '리볼빙' in col]"
   ]
  },
  {
   "cell_type": "code",
   "execution_count": null,
   "id": "3cb1afd4-1c38-450c-bf99-0f9f83903c96",
   "metadata": {},
   "outputs": [],
   "source": []
  }
 ],
 "metadata": {
  "kernelspec": {
   "display_name": "Python [conda env:base] *",
   "language": "python",
   "name": "conda-base-py"
  },
  "language_info": {
   "codemirror_mode": {
    "name": "ipython",
    "version": 3
   },
   "file_extension": ".py",
   "mimetype": "text/x-python",
   "name": "python",
   "nbconvert_exporter": "python",
   "pygments_lexer": "ipython3",
   "version": "3.12.9"
  }
 },
 "nbformat": 4,
 "nbformat_minor": 5
}
